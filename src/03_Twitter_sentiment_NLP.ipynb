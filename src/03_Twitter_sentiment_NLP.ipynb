{
 "cells": [
  {
   "cell_type": "code",
   "execution_count": null,
   "metadata": {},
   "outputs": [],
   "source": [
    "import tweepy\n",
    "import pandas as pd\n",
    "\n",
    "client = tweepy.Client(bearer_token=\"\")\n",
    "\n",
    "tweets = client.search_recent_tweets(\"(#bitcoin OR #Bitcoin OR #BTC OR #btc) -is:retweet lang:en\",max_results=100,).data\n",
    "tweets_df = pd.DataFrame([tweet.data for tweet in tweets])\n",
    "tweets_df.drop(columns=['id','edit_history_tweet_ids'],inplace=True)\n",
    "tweets_df.head()"
   ]
  },
  {
   "cell_type": "code",
   "execution_count": null,
   "metadata": {},
   "outputs": [],
   "source": [
    "import re\n",
    "\n",
    "def clean_tweet_dataframe(raw_df: pd.DataFrame, column: str = \"text\") -> pd.DataFrame:\n",
    "    \"\"\"Function that will clean an entire column of a dataframe.\n",
    "\n",
    "    Args:\n",
    "        raw_df (pd.DataFrame): The dataframe to clean.\n",
    "        column (str): The column containing the tweets. Default to text.\n",
    "\n",
    "    Returns:\n",
    "        pd.DataFrame: _description_\n",
    "    \"\"\"\n",
    "\n",
    "    def clean_tweet(txt: str) -> str:\n",
    "        \"\"\"This function takes a string as input and returns a cleaned version of the\n",
    "        string by removing hashtags, newlines, URLs, @ symbols, and emojis. It also\n",
    "        converts the string to lowercase.\n",
    "\n",
    "        Args:\n",
    "            txt (str): The input string to be cleaned.\n",
    "\n",
    "        Returns:\n",
    "            str: The cleaned version of the input string.\n",
    "        \"\"\"\n",
    "        txt = str(txt)\n",
    "        txt = re.sub(r\"#\", \"\", txt)\n",
    "        txt = re.sub(r\"\\n\", \"\", txt)\n",
    "        txt = re.sub(r\"https?:\\/\\/\\S+\", \"\", txt)\n",
    "        txt = re.sub(r\"@\", \"\", txt)\n",
    "        emoji_pattern = re.compile(\n",
    "            \"[\"\n",
    "            \"\\U0001F600-\\U0001F64F\"  # emoticons\n",
    "            \"\\U0001F300-\\U0001F5FF\"  # symbols & pictographs\n",
    "            \"\\U0001F680-\\U0001F6FF\"  # transport & map symbols\n",
    "            \"\\U0001F1E0-\\U0001F1FF\"  # flags (iOS)\n",
    "            \"\\U00002500-\\U00002BEF\"  # chinese char\n",
    "            \"\\U00002702-\\U000027B0\"\n",
    "            \"\\U00002702-\\U000027B0\"\n",
    "            \"\\U000024C2-\\U0001F251\"\n",
    "            \"\\U0001f926-\\U0001f937\"\n",
    "            \"\\U00010000-\\U0010ffff\"\n",
    "            \"\\u2640-\\u2642\"\n",
    "            \"\\u2600-\\u2B55\"\n",
    "            \"\\u200d\"\n",
    "            \"\\u23cf\"\n",
    "            \"\\u23e9\"\n",
    "            \"\\u231a\"\n",
    "            \"\\ufe0f\"  # dingbats\n",
    "            \"\\u3030\"\n",
    "            \"]+\",\n",
    "            flags=re.UNICODE,\n",
    "        )\n",
    "\n",
    "        return emoji_pattern.sub(r\"\", txt).lower()\n",
    "\n",
    "    raw_df[column] = raw_df[column].apply(clean_tweet)\n",
    "    return raw_df\n"
   ]
  },
  {
   "cell_type": "code",
   "execution_count": null,
   "metadata": {},
   "outputs": [],
   "source": [
    "tweets_df.text = tweets_df.text.apply(clean_tweet_dataframe)\n",
    "tweets_df.head(10)"
   ]
  },
  {
   "attachments": {},
   "cell_type": "markdown",
   "metadata": {},
   "source": [
    "# Afinn"
   ]
  },
  {
   "cell_type": "code",
   "execution_count": null,
   "metadata": {},
   "outputs": [],
   "source": [
    "from afinn import Afinn\n",
    "\n",
    "afinn = Afinn()\n",
    "\n",
    "def classify_tweet_afinn(tweet: str) -> str:\n",
    "    \"\"\"Get the sentiment of a tweet using the afinn library.\n",
    "\n",
    "    Args:\n",
    "        tweet (str): The tweet text.\n",
    "\n",
    "    Returns:\n",
    "        str: \"Positive\" if the sentiment is positive,\n",
    "                \"Negative\" if the sentiment is negative.\n",
    "    \"\"\"\n",
    "    score = afinn.score(tweet)\n",
    "    return \"Negative\" if score < 0 else \"Positive\"\n",
    "\n",
    "tweets_df['afinn'] = tweets_df.text.apply(classify_tweet_afinn) \n",
    "tweets_df.head(15)"
   ]
  },
  {
   "attachments": {},
   "cell_type": "markdown",
   "metadata": {},
   "source": [
    "# TextBlob"
   ]
  },
  {
   "attachments": {},
   "cell_type": "markdown",
   "metadata": {},
   "source": [
    "## Polarity"
   ]
  },
  {
   "cell_type": "code",
   "execution_count": null,
   "metadata": {},
   "outputs": [],
   "source": [
    "from textblob import TextBlob\n",
    "\n",
    "def classify_tweet_textblob(tweet: str) -> str:\n",
    "    \"\"\"Get the sentiment of a tweet using the TextBlob library.\n",
    "\n",
    "    Args:\n",
    "        tweet (str): The tweet text.\n",
    "\n",
    "    Returns:\n",
    "        str: \"Positive\" if the sentiment is positive,\n",
    "                \"Negative\" if the sentiment is negative.\n",
    "    \"\"\"\n",
    "\n",
    "    score = TextBlob(tweet).sentiment.polarity\n",
    "\n",
    "    return \"Negative\" if score < 0 else \"Positive\"\n",
    "\n",
    "tweets_df['textblob'] = tweets_df.text.apply(classify_tweet_afinn) \n",
    "tweets_df.head(15)"
   ]
  },
  {
   "attachments": {},
   "cell_type": "markdown",
   "metadata": {},
   "source": [
    "## Subjectivity"
   ]
  },
  {
   "cell_type": "code",
   "execution_count": null,
   "metadata": {},
   "outputs": [],
   "source": [
    "def getSubjectivity(txt):\n",
    "    return TextBlob(txt).sentiment.subjectivity\n",
    "tweets_df['subjectivity'] = tweets_df.text.apply(getSubjectivity)"
   ]
  }
 ],
 "metadata": {
  "kernelspec": {
   "display_name": "Python 3",
   "language": "python",
   "name": "python3"
  },
  "language_info": {
   "name": "python",
   "version": "3.10.6"
  },
  "orig_nbformat": 4,
  "vscode": {
   "interpreter": {
    "hash": "916dbcbb3f70747c44a77c7bcd40155683ae19c65e1c03b4aa3499c5328201f1"
   }
  }
 },
 "nbformat": 4,
 "nbformat_minor": 2
}
